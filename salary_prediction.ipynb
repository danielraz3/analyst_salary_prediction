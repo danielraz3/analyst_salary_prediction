{
 "cells": [
  {
   "cell_type": "code",
   "execution_count": 1,
   "id": "ff5684a9",
   "metadata": {
    "ExecuteTime": {
     "end_time": "2024-04-01T09:31:50.116694Z",
     "start_time": "2024-04-01T09:31:49.835557Z"
    }
   },
   "outputs": [
    {
     "name": "stdout",
     "output_type": "stream",
     "text": [
      "<class 'pandas.core.frame.DataFrame'>\n",
      "RangeIndex: 1210 entries, 0 to 1209\n",
      "Data columns (total 15 columns):\n",
      " #   Column           Non-Null Count  Dtype  \n",
      "---  ------           --------------  -----  \n",
      " 0   job_type         1194 non-null   object \n",
      " 1   job_location     1194 non-null   object \n",
      " 2   analyst_type     1194 non-null   object \n",
      " 3   company_type     1209 non-null   object \n",
      " 4   is_manager       1194 non-null   object \n",
      " 5   is_python        611 non-null    object \n",
      " 6   is_data_analyst  1210 non-null   object \n",
      " 7   is_ml            1194 non-null   object \n",
      " 8   is_sql           1194 non-null   object \n",
      " 9   is_full_time     1129 non-null   object \n",
      " 10  education        1192 non-null   object \n",
      " 11  viz_tool         1192 non-null   object \n",
      " 12  year_of_surv     1210 non-null   int64  \n",
      " 13  exp              1194 non-null   float64\n",
      " 14  salary           1115 non-null   float64\n",
      "dtypes: float64(2), int64(1), object(12)\n",
      "memory usage: 141.9+ KB\n"
     ]
    }
   ],
   "source": [
    "import pandas as pd\n",
    "import joblib\n",
    "\n",
    "\n",
    "\n",
    "\n",
    "data = pd.read_csv('data_analyst_salary_2024.csv')\n",
    "\n",
    "data['salary'].isnull().sum()\n",
    "data.info()"
   ]
  },
  {
   "cell_type": "code",
   "execution_count": 2,
   "id": "e0c0a786",
   "metadata": {
    "ExecuteTime": {
     "end_time": "2024-04-01T09:31:50.123143Z",
     "start_time": "2024-04-01T09:31:50.118283Z"
    }
   },
   "outputs": [
    {
     "name": "stdout",
     "output_type": "stream",
     "text": [
      "<class 'pandas.core.frame.DataFrame'>\n",
      "Index: 1115 entries, 1 to 1209\n",
      "Data columns (total 15 columns):\n",
      " #   Column           Non-Null Count  Dtype  \n",
      "---  ------           --------------  -----  \n",
      " 0   job_type         1115 non-null   object \n",
      " 1   job_location     1115 non-null   object \n",
      " 2   analyst_type     1115 non-null   object \n",
      " 3   company_type     1114 non-null   object \n",
      " 4   is_manager       1115 non-null   object \n",
      " 5   is_python        575 non-null    object \n",
      " 6   is_data_analyst  1115 non-null   object \n",
      " 7   is_ml            1115 non-null   object \n",
      " 8   is_sql           1115 non-null   object \n",
      " 9   is_full_time     1109 non-null   object \n",
      " 10  education        1113 non-null   object \n",
      " 11  viz_tool         1113 non-null   object \n",
      " 12  year_of_surv     1115 non-null   int64  \n",
      " 13  exp              1115 non-null   float64\n",
      " 14  salary           1115 non-null   float64\n",
      "dtypes: float64(2), int64(1), object(12)\n",
      "memory usage: 139.4+ KB\n"
     ]
    }
   ],
   "source": [
    "data.dropna(subset=['salary'], inplace=True)\n",
    "data.info()"
   ]
  },
  {
   "cell_type": "code",
   "execution_count": 3,
   "id": "0423b0ee",
   "metadata": {
    "ExecuteTime": {
     "end_time": "2024-04-01T09:31:50.129551Z",
     "start_time": "2024-04-01T09:31:50.124014Z"
    }
   },
   "outputs": [
    {
     "name": "stdout",
     "output_type": "stream",
     "text": [
      "Value counts for job_type:\n",
      "job_type\n",
      "שכירה             1037\n",
      "שכיר                62\n",
      "לא מועסקת כרגע      11\n",
      "לא מועסק כרגע        4\n",
      "עצמאית               1\n",
      "Name: count, dtype: int64\n",
      "\n",
      "\n",
      "Value counts for job_location:\n",
      "job_location\n",
      "אזור תל אביב    557\n",
      "מרכז            387\n",
      "אזור ירושלים     61\n",
      "אזור חיפה        31\n",
      "צפון             28\n",
      "עבודה מהבית      24\n",
      "אזור השפלה       12\n",
      "דרום              9\n",
      "אזור באר שבע      6\n",
      "Name: count, dtype: int64\n",
      "\n",
      "\n",
      "Value counts for analyst_type:\n",
      "analyst_type\n",
      "All kind of data analysis    348\n",
      "Business analyst             179\n",
      "Product                      168\n",
      "BI                           118\n",
      "Financial Analyst            102\n",
      "Marketing                     73\n",
      "other                         72\n",
      "Data sceintist                26\n",
      "Web Analyst                   16\n",
      "Fraud Analyst                 13\n",
      "Name: count, dtype: int64\n",
      "\n",
      "\n",
      "Value counts for company_type:\n",
      "company_type\n",
      "הייטק             435\n",
      "תעשייה ישראלית    333\n",
      "הייטק (גלובלי)    263\n",
      "אחר                40\n",
      "צהל                22\n",
      "ממשלתיח            21\n",
      "Name: count, dtype: int64\n",
      "\n",
      "\n",
      "Value counts for is_manager:\n",
      "is_manager\n",
      "לא    907\n",
      "כן    208\n",
      "Name: count, dtype: int64\n",
      "\n",
      "\n",
      "Value counts for is_python:\n",
      "is_python\n",
      "לא               285\n",
      "כן               182\n",
      "לעיתים נדירות    108\n",
      "Name: count, dtype: int64\n",
      "\n",
      "\n",
      "Value counts for is_data_analyst:\n",
      "is_data_analyst\n",
      "כן    1115\n",
      "Name: count, dtype: int64\n",
      "\n",
      "\n",
      "Value counts for is_ml:\n",
      "is_ml\n",
      "לא               679\n",
      "לעיתים נדירות    244\n",
      "כן               192\n",
      "Name: count, dtype: int64\n",
      "\n",
      "\n",
      "Value counts for is_sql:\n",
      "is_sql\n",
      "כן               859\n",
      "לא               171\n",
      "לעיתים נדירות     85\n",
      "Name: count, dtype: int64\n",
      "\n",
      "\n",
      "Value counts for is_full_time:\n",
      "is_full_time\n",
      "מלאה                   1054\n",
      "חצי משרה                 38\n",
      "לא קבוע או לפי שעות      12\n",
      "פחות מחצי משרה            5\n",
      "Name: count, dtype: int64\n",
      "\n",
      "\n",
      "Value counts for education:\n",
      "education\n",
      "הנדסת תעשיה וניהול            251\n",
      "כלכלה / פיננסים / חשבונאות    210\n",
      "מדעי ההתנהגות או חברה         131\n",
      "כלכלה                         123\n",
      "אין תואר                       84\n",
      "סטטיסטיקה                      81\n",
      "מדעי הטבע                      53\n",
      "מערכות מידע                    46\n",
      "מנהל עסקים                     45\n",
      "מדעי המחשב                     41\n",
      "אחר                            17\n",
      "מדעים מדויקים                  17\n",
      "חשבונאות                       14\n",
      "Name: count, dtype: int64\n",
      "\n",
      "\n",
      "Value counts for viz_tool:\n",
      "viz_tool\n",
      "Tableau               348\n",
      "Power BI              219\n",
      "Excel                 202\n",
      "Other                  81\n",
      "Looker                 70\n",
      "Qlik                   60\n",
      "Python/R               51\n",
      "No Tool                46\n",
      "Redash                 20\n",
      "Google Data studio     13\n",
      "1                       1\n",
      "Mixpanel                1\n",
      "Grafana                 1\n",
      "Name: count, dtype: int64\n",
      "\n",
      "\n"
     ]
    }
   ],
   "source": [
    "for column in data.columns:\n",
    "    # Check if the column is of object type\n",
    "    if data[column].dtype == 'object':\n",
    "        print(f\"Value counts for {column}:\")\n",
    "        print(data[column].value_counts())\n",
    "        print(\"\\n\")  # Print a new line for readability between columns"
   ]
  },
  {
   "cell_type": "code",
   "execution_count": 4,
   "id": "ebf77021",
   "metadata": {
    "ExecuteTime": {
     "end_time": "2024-04-01T09:31:50.147015Z",
     "start_time": "2024-04-01T09:31:50.130896Z"
    }
   },
   "outputs": [],
   "source": [
    "data= data.loc[data['job_type'].isin(['שכירה', 'שכיר'])]\n",
    "data.drop(columns=['job_type'], inplace=True)\n",
    "data.loc[data['job_location'].isin(['צפון','דרום','אזור חיפה','אזור ירושלים','אזור באר שבע', 'אזור השפלה']), 'job_location'] = 'שאר הטארץ'\n",
    "data.loc[data['analyst_type'].isin(['Web Analyst', 'Fraud Analyst','All kind of data analysis','Product']), 'analyst_type'] = 'Business analyst'\n",
    "\n",
    "data.loc[data['company_type'].isin(['צהל', 'ממשלתיח']), 'company_type'] = 'אחר'\n",
    "data.loc[data['company_type'].isin(['הייטק (גלובלי)']), 'company_type'] = 'הייטק'\n",
    "\n",
    "\n",
    "data = data.drop(columns=['is_data_analyst'])\n",
    "data = data[data['is_full_time'] == 'מלאה']\n",
    "data.drop(columns=['is_full_time'], inplace=True)\n",
    "data['is_python'] = data['is_python'].fillna('no_data')\n",
    "data['education'] = data['education'].fillna('אחר')\n",
    "data['viz_tool'] = data['viz_tool'].fillna('no_data')\n",
    "\n",
    "data.loc[data['education'].isin(['מנהל עסקים','חשבונאות','כלכלה']), 'education'] = 'כלכלה / פיננסים / חשבונאות/מנהל עסקים'\n",
    "data.loc[data['education'].isin(['מדעי הטבע','מדעי המחשב']), 'education'] = 'מדעים מדויקים'\n",
    "data.loc[data['education'].isin(['הנדסת תעשיה וניהול','מערכות מידע']), 'education'] = 'הנדסה תעששיייה וניהול/ מערכות מידע'\n",
    "\n",
    "data.loc[data['viz_tool'].isin(['Redash','Google Data studio','1','Mixpanel','Grafana','no_data']), 'viz_tool'] = 'Other'\n",
    "data.loc[data['viz_tool'].isin(['Looker','Qlik','Python/R']), 'viz_tool'] = 'Looker/Qlik/Python/R'\n",
    "\n",
    "\n",
    "\n"
   ]
  },
  {
   "cell_type": "code",
   "execution_count": 5,
   "id": "6fb2c70f",
   "metadata": {
    "ExecuteTime": {
     "end_time": "2024-04-01T09:31:50.155708Z",
     "start_time": "2024-04-01T09:31:50.149810Z"
    }
   },
   "outputs": [
    {
     "name": "stdout",
     "output_type": "stream",
     "text": [
      "Value counts for job_location:\n",
      "job_location\n",
      "אזור תל אביב    531\n",
      "מרכז            360\n",
      "שאר הטארץ       129\n",
      "עבודה מהבית      22\n",
      "Name: count, dtype: int64\n",
      "\n",
      "\n",
      "Value counts for analyst_type:\n",
      "analyst_type\n",
      "Business analyst     678\n",
      "BI                   111\n",
      "Financial Analyst     95\n",
      "Marketing             71\n",
      "other                 64\n",
      "Data sceintist        23\n",
      "Name: count, dtype: int64\n",
      "\n",
      "\n",
      "Value counts for company_type:\n",
      "company_type\n",
      "הייטק             652\n",
      "תעשייה ישראלית    321\n",
      "אחר                69\n",
      "Name: count, dtype: int64\n",
      "\n",
      "\n",
      "Value counts for is_manager:\n",
      "is_manager\n",
      "לא    842\n",
      "כן    200\n",
      "Name: count, dtype: int64\n",
      "\n",
      "\n",
      "Value counts for is_python:\n",
      "is_python\n",
      "no_data          508\n",
      "לא               269\n",
      "כן               165\n",
      "לעיתים נדירות    100\n",
      "Name: count, dtype: int64\n",
      "\n",
      "\n",
      "Value counts for is_ml:\n",
      "is_ml\n",
      "לא               634\n",
      "לעיתים נדירות    227\n",
      "כן               181\n",
      "Name: count, dtype: int64\n",
      "\n",
      "\n",
      "Value counts for is_sql:\n",
      "is_sql\n",
      "כן               819\n",
      "לא               147\n",
      "לעיתים נדירות     76\n",
      "Name: count, dtype: int64\n",
      "\n",
      "\n",
      "Value counts for education:\n",
      "education\n",
      "הנדסה תעששיייה וניהול/ מערכות מידע       273\n",
      "כלכלה / פיננסים / חשבונאות               202\n",
      "כלכלה / פיננסים / חשבונאות/מנהל עסקים    179\n",
      "מדעי ההתנהגות או חברה                    124\n",
      "מדעים מדויקים                            104\n",
      "אין תואר                                  73\n",
      "סטטיסטיקה                                 69\n",
      "אחר                                       18\n",
      "Name: count, dtype: int64\n",
      "\n",
      "\n",
      "Value counts for viz_tool:\n",
      "viz_tool\n",
      "Tableau                 330\n",
      "Power BI                209\n",
      "Excel                   182\n",
      "Looker/Qlik/Python/R    171\n",
      "Other                   108\n",
      "No Tool                  42\n",
      "Name: count, dtype: int64\n",
      "\n",
      "\n"
     ]
    }
   ],
   "source": [
    "for column in data.columns:\n",
    "    # Check if the column is of object type\n",
    "    if data[column].dtype == 'object':\n",
    "        print(f\"Value counts for {column}:\")\n",
    "        print(data[column].value_counts())\n",
    "        print(\"\\n\")  # Print a new line for readability between columns"
   ]
  },
  {
   "cell_type": "code",
   "execution_count": null,
   "id": "daf65b02",
   "metadata": {
    "ExecuteTime": {
     "end_time": "2024-03-31T15:36:12.719045Z",
     "start_time": "2024-03-31T15:36:12.340186Z"
    }
   },
   "outputs": [],
   "source": []
  },
  {
   "cell_type": "code",
   "execution_count": 6,
   "id": "83200b24",
   "metadata": {
    "ExecuteTime": {
     "end_time": "2024-04-01T09:31:50.160472Z",
     "start_time": "2024-04-01T09:31:50.156660Z"
    }
   },
   "outputs": [
    {
     "name": "stdout",
     "output_type": "stream",
     "text": [
      "<class 'pandas.core.frame.DataFrame'>\n",
      "Index: 1042 entries, 1 to 1209\n",
      "Data columns (total 12 columns):\n",
      " #   Column        Non-Null Count  Dtype  \n",
      "---  ------        --------------  -----  \n",
      " 0   job_location  1042 non-null   object \n",
      " 1   analyst_type  1042 non-null   object \n",
      " 2   company_type  1042 non-null   object \n",
      " 3   is_manager    1042 non-null   object \n",
      " 4   is_python     1042 non-null   object \n",
      " 5   is_ml         1042 non-null   object \n",
      " 6   is_sql        1042 non-null   object \n",
      " 7   education     1042 non-null   object \n",
      " 8   viz_tool      1042 non-null   object \n",
      " 9   year_of_surv  1042 non-null   int64  \n",
      " 10  exp           1042 non-null   float64\n",
      " 11  salary        1042 non-null   float64\n",
      "dtypes: float64(2), int64(1), object(9)\n",
      "memory usage: 105.8+ KB\n"
     ]
    }
   ],
   "source": [
    "data.info()\n",
    "# data.to_csv('data_for_cheat_gpt.csv')"
   ]
  },
  {
   "cell_type": "code",
   "execution_count": 7,
   "id": "a60b6518",
   "metadata": {
    "ExecuteTime": {
     "end_time": "2024-04-01T09:31:50.591478Z",
     "start_time": "2024-04-01T09:31:50.161268Z"
    }
   },
   "outputs": [
    {
     "name": "stdout",
     "output_type": "stream",
     "text": [
      "Linear Regression - Train RMSE: 5792.057897113151, Test RMSE: 4788.200603788463\n",
      "Gradient Boosting - Train RMSE: 4743.005224286236, Test RMSE: 4741.932506592513\n",
      "XGBoost (Adjusted) - Train RMSE: 4799.9299957440335, Test RMSE: 4618.726844065215\n"
     ]
    },
    {
     "name": "stderr",
     "output_type": "stream",
     "text": [
      "/Users/danielr/anaconda3/lib/python3.11/site-packages/xgboost/core.py:160: UserWarning: [12:31:50] WARNING: /Users/runner/work/xgboost/xgboost/src/learner.cc:742: \n",
      "Parameters: { \"min_samples_leaf\" } are not used.\n",
      "\n",
      "  warnings.warn(smsg, UserWarning)\n"
     ]
    },
    {
     "data": {
      "text/plain": [
       "['preprocessor.joblib']"
      ]
     },
     "execution_count": 7,
     "metadata": {},
     "output_type": "execute_result"
    }
   ],
   "source": [
    "import pandas as pd\n",
    "from sklearn.model_selection import train_test_split\n",
    "from sklearn.compose import ColumnTransformer\n",
    "from sklearn.preprocessing import OneHotEncoder, StandardScaler\n",
    "from sklearn.linear_model import LinearRegression\n",
    "from sklearn.ensemble import RandomForestRegressor, GradientBoostingRegressor\n",
    "from xgboost import XGBRegressor\n",
    "from sklearn.metrics import mean_squared_error, mean_absolute_error\n",
    "from math import sqrt\n",
    "\n",
    "# Load your data\n",
    "\n",
    "\n",
    "# Drop unnecessary columns and convert 'year_of_surv' to a string\n",
    "data['year_of_surv'] = data['year_of_surv'].astype(str)\n",
    "col=['company_type','is_manager','is_sql','is_ml','year_of_surv','exp','viz_tool','job_location','analyst_type']\n",
    "# Identify categorical and numerical columns\n",
    "categorical_cols = data[col].select_dtypes(include=['object']).columns.tolist()\n",
    "numerical_cols = ['exp']\n",
    "\n",
    "# Preprocessing\n",
    "preprocessor = ColumnTransformer(\n",
    "    transformers=[\n",
    "        ('cat', OneHotEncoder(handle_unknown='ignore'), categorical_cols),\n",
    "        ('num', StandardScaler(), numerical_cols),\n",
    "\n",
    "    ])\n",
    "\n",
    "# Split the data\n",
    "X = data.drop('salary', axis=1)\n",
    "X = data[col]\n",
    "y = data['salary']\n",
    "X_train, X_test, y_train, y_test = train_test_split(X, y, test_size=0.2, random_state=42)\n",
    "\n",
    "# Apply preprocessing\n",
    "X_train_preprocessed = preprocessor.fit_transform(X_train)\n",
    "X_test_preprocessed = preprocessor.transform(X_test)\n",
    "\n",
    "# Initialize and train models\n",
    "models = {\n",
    "    \"Linear Regression\": LinearRegression(),\n",
    "#     \"Random Forest\": RandomForestRegressor(n_estimators=100, max_depth=4, random_state=42),\n",
    "    \"Gradient Boosting\": GradientBoostingRegressor(random_state=42)\n",
    "}\n",
    "\n",
    "for name, model in models.items():\n",
    "    model.fit(X_train_preprocessed, y_train)\n",
    "    y_train_pred = model.predict(X_train_preprocessed)\n",
    "    y_test_pred = model.predict(X_test_preprocessed)\n",
    "    \n",
    "    train_rmse = sqrt(mean_squared_error(y_train, y_train_pred))\n",
    "    test_rmse = sqrt(mean_squared_error(y_test, y_test_pred))\n",
    "    print(f\"{name} - Train RMSE: {train_rmse}, Test RMSE: {test_rmse}\")\n",
    "\n",
    "# Attempt to train an XGBoost model with adjusted parameters\n",
    "xgboost_adjusted = XGBRegressor(learning_rate= 0.1, max_depth= 4, n_estimators= 100,subsample= 0.8, random_state=42)\n",
    "xgboost_adjusted = XGBRegressor(n_estimators=100, max_depth=3,min_samples_leaf= 1, learning_rate=0.1, subsample=0.8, colsample_bytree=0.8, random_state=42)\n",
    "\n",
    "xgboost_adjusted.fit(X_train_preprocessed, y_train)\n",
    "y_train_pred_xgb_adj = xgboost_adjusted.predict(X_train_preprocessed)\n",
    "y_test_pred_xgb_adj = xgboost_adjusted.predict(X_test_preprocessed)\n",
    "\n",
    "train_rmse_xgb_adj = sqrt(mean_squared_error(y_train, y_train_pred_xgb_adj))\n",
    "test_rmse_xgb_adj = sqrt(mean_squared_error(y_test, y_test_pred_xgb_adj))\n",
    "print(f\"XGBoost (Adjusted) - Train RMSE: {train_rmse_xgb_adj}, Test RMSE: {test_rmse_xgb_adj}\")\n",
    "# xgboost_adjusted\n",
    "joblib.dump(xgboost_adjusted,'model.pkl')\n",
    "joblib.dump(preprocessor, 'preprocessor.joblib')"
   ]
  },
  {
   "cell_type": "code",
   "execution_count": 22,
   "id": "3fc8b009",
   "metadata": {
    "ExecuteTime": {
     "end_time": "2024-04-01T09:37:21.332490Z",
     "start_time": "2024-04-01T09:37:20.343269Z"
    }
   },
   "outputs": [
    {
     "name": "stdout",
     "output_type": "stream",
     "text": [
      "Best parameters: {'learning_rate': 0.1, 'max_depth': 3, 'min_samples_leaf': 3, 'min_samples_split': 3, 'n_estimators': 100}\n",
      "Best score: 6248.633830867754\n",
      "RMSE on Test Data: 4694.696754960545\n",
      "RMSE on Train Data: 4792.21452246687\n"
     ]
    }
   ],
   "source": [
    "from sklearn.model_selection import GridSearchCV\n",
    "from sklearn.ensemble import GradientBoostingRegressor\n",
    "import numpy as np\n",
    "\n",
    "\n",
    "def rmse(y_true, y_pred):\n",
    "    return np.sqrt(mean_squared_error(y_true, y_pred))\n",
    "\n",
    "# Make scorer and negate since GridSearchCV looks for maximum score\n",
    "# rmse_scorer = make_scorer(rmse, greater_is_better=False)\n",
    "\n",
    "\n",
    "# Example parameter grid\n",
    "param_grid = {\n",
    "    'n_estimators': [100],\n",
    "    'learning_rate': [0.01, 0.1],\n",
    "    'max_depth': [3,4],\n",
    "    'min_samples_split': [3],\n",
    "    'min_samples_leaf': [3]\n",
    "}\n",
    "\n",
    "\n",
    "\n",
    "# Initialize the estimator\n",
    "gbr = GradientBoostingRegressor(random_state=42)\n",
    "\n",
    "\n",
    "# Preprocessing\n",
    "preprocessor = ColumnTransformer(\n",
    "    transformers=[\n",
    "        ('cat', OneHotEncoder(handle_unknown='ignore'), categorical_cols),\n",
    "        ('num', StandardScaler(), numerical_cols),\n",
    "\n",
    "    ])\n",
    "\n",
    "# Split the data\n",
    "X = data.drop('salary', axis=1)\n",
    "X = data[col]\n",
    "y = data['salary']\n",
    "X_train, X_test, y_train, y_test = train_test_split(X, y, test_size=0.2, random_state=42)\n",
    "\n",
    "# Apply preprocessing\n",
    "X_train_preprocessed = preprocessor.fit_transform(X_train)\n",
    "X_test_preprocessed = preprocessor.transform(X_test)\n",
    "\n",
    "\n",
    "    \n",
    "# Initialize the GridSearchCV object\n",
    "grid_search = GridSearchCV(estimator=gbr, param_grid=param_grid, cv=5, scoring='neg_mean_squared_error')\n",
    "\n",
    "# Fit it to your data\n",
    "grid_search.fit(X_train_preprocessed, y_train)\n",
    "\n",
    "# Best parameters found\n",
    "print(\"Best parameters:\", grid_search.best_params_)\n",
    "\n",
    "# Best score achieved\n",
    "print(\"Best score:\", np.sqrt(-grid_search.best_score_))\n",
    "\n",
    "best_model = grid_search.best_estimator_\n",
    "y_test_pred = best_model.predict(X_test_preprocessed)\n",
    "y_train_pred = best_model.predict(X_train_preprocessed)\n",
    "\n",
    "test_rmse = rmse(y_test, y_test_pred)\n",
    "train_rmse = rmse(y_train, y_train_pred)\n",
    "\n",
    "joblib.dump(best_model,'model.pkl')\n",
    "joblib.dump(preprocessor, 'preprocessor.joblib')\n",
    "\n",
    "print(f\"RMSE on Test Data: {test_rmse}\")\n",
    "print(f\"RMSE on Train Data: {train_rmse}\")\n"
   ]
  },
  {
   "cell_type": "code",
   "execution_count": 9,
   "id": "1fdea1bb",
   "metadata": {
    "ExecuteTime": {
     "end_time": "2024-04-01T09:31:51.886034Z",
     "start_time": "2024-04-01T09:31:51.553123Z"
    }
   },
   "outputs": [
    {
     "data": {
      "image/png": "[encoded data removed]",
      "text/plain": [
       "<Figure size 1000x600 with 1 Axes>"
      ]
     },
     "metadata": {},
     "output_type": "display_data"
    }
   ],
   "source": [
    "import matplotlib.pyplot as plt\n",
    "import pandas as pd\n",
    "\n",
    "# Assuming xgboost_adjusted is your trained XGBRegressor model\n",
    "importances = xgboost_adjusted.feature_importances_\n",
    "\n",
    "# Assuming you have the feature names accessible\n",
    "# For example, if you used a ColumnTransformer with one-hot encoding,\n",
    "# you might need to get the output feature names like so:\n",
    "feature_names = preprocessor.get_feature_names_out()\n",
    "\n",
    "# Create a pandas Series for easy plotting\n",
    "feature_importance_series = pd.Series(importances, index=feature_names)\n",
    "\n",
    "# Plotting\n",
    "feature_importance_series.sort_values(ascending=True).plot.barh(figsize=(10, 6))\n",
    "plt.title('Feature Importance')\n",
    "plt.show()"
   ]
  },
  {
   "cell_type": "code",
   "execution_count": 10,
   "id": "6b736b06",
   "metadata": {
    "ExecuteTime": {
     "end_time": "2024-04-01T09:31:51.993053Z",
     "start_time": "2024-04-01T09:31:51.913491Z"
    }
   },
   "outputs": [
    {
     "data": {
      "image/png": "[encoded data removed]",
      "text/plain": [
       "<Figure size 640x480 with 1 Axes>"
      ]
     },
     "metadata": {},
     "output_type": "display_data"
    }
   ],
   "source": [
    "import matplotlib.pyplot as plt\n",
    "from xgboost import plot_importance\n",
    "feature_names = preprocessor.get_feature_names_out()\n",
    "\n",
    "\n",
    "\n",
    "# Plotting using 'weight', but you can also use 'gain' or 'cover'\n",
    "plot_importance(xgboost_adjusted, importance_type='weight', max_num_features=10, height=0.5)\n",
    "plt.show()\n"
   ]
  },
  {
   "cell_type": "code",
   "execution_count": 11,
   "id": "9bf9e226",
   "metadata": {
    "ExecuteTime": {
     "end_time": "2024-04-01T09:31:52.002746Z",
     "start_time": "2024-04-01T09:31:51.998671Z"
    }
   },
   "outputs": [
    {
     "name": "stdout",
     "output_type": "stream",
     "text": [
      "Top Most Important Features: ['cat__company_type_הייטק', 'cat__is_manager_לא', 'cat__is_sql_כן', 'num__exp', 'cat__is_manager_כן', 'cat__analyst_type_Financial Analyst', 'cat__year_of_surv_2020', 'cat__year_of_surv_2024', 'cat__viz_tool_Excel', 'cat__viz_tool_Looker/Qlik/Python/R', 'cat__company_type_תעשייה ישראלית', 'cat__is_ml_לא', 'cat__year_of_surv_2021', 'cat__viz_tool_Power BI', 'cat__viz_tool_Tableau', 'cat__analyst_type_Business analyst', 'cat__year_of_surv_2022', 'cat__analyst_type_Data sceintist', 'cat__job_location_מרכז', 'cat__job_location_אזור תל אביב']\n"
     ]
    }
   ],
   "source": [
    "import numpy as np\n",
    "\n",
    "top_x=20\n",
    "sorted_indices = np.argsort(importances)[::-1]\n",
    "\n",
    "# Select the top 10 most important feature indices\n",
    "top_indices = sorted_indices[:top_x]\n",
    "\n",
    "# Get the names of these top 10 features\n",
    "top_feature_names = np.array(feature_names)[top_indices]\n",
    "\n",
    "# Convert to list if you need a list specifically\n",
    "top_feature_names = top_feature_names.tolist()\n",
    "\n",
    "print(\"Top Most Important Features:\", top_feature_names)"
   ]
  },
  {
   "cell_type": "code",
   "execution_count": 12,
   "id": "7759765e",
   "metadata": {
    "ExecuteTime": {
     "end_time": "2024-04-01T09:31:52.010453Z",
     "start_time": "2024-04-01T09:31:52.007014Z"
    }
   },
   "outputs": [],
   "source": [
    "from scipy.sparse import csr_matrix\n",
    "\n",
    "\n",
    "def change_to_df(X_train_preprocessed,features):\n",
    "# If X_train_preprocessed is a sparse matrix\n",
    "    if isinstance(X_train_preprocessed, csr_matrix):\n",
    "        X_train_preprocessed_df = pd.DataFrame(X_train_preprocessed.toarray(), columns=feature_names)\n",
    "\n",
    "    return X_train_preprocessed_df[features]"
   ]
  },
  {
   "cell_type": "code",
   "execution_count": 13,
   "id": "4c125d84",
   "metadata": {
    "ExecuteTime": {
     "end_time": "2024-04-01T09:31:52.018724Z",
     "start_time": "2024-04-01T09:31:52.014334Z"
    }
   },
   "outputs": [],
   "source": [
    "# import pandas as pd\n",
    "# from sklearn.model_selection import train_test_split\n",
    "# from sklearn.compose import ColumnTransformer\n",
    "# from sklearn.preprocessing import OneHotEncoder, StandardScaler\n",
    "# from sklearn.linear_model import LinearRegression\n",
    "# from sklearn.ensemble import RandomForestRegressor, GradientBoostingRegressor\n",
    "# from xgboost import XGBRegressor\n",
    "# from sklearn.metrics import mean_squared_error, mean_absolute_error\n",
    "# from math import sqrt\n",
    "\n",
    "# # Load your data\n",
    "\n",
    "\n",
    "# # Drop unnecessary columns and convert 'year_of_surv' to a string\n",
    "# data['year_of_surv'] = data['year_of_surv'].astype(str)\n",
    "# col=['company_type','is_manager','is_sql','is_ml','year_of_surv','exp','viz_tool','job_location']\n",
    "# # Identify categorical and numerical columns\n",
    "# categorical_cols = data[col].select_dtypes(include=['object']).columns.tolist()\n",
    "# numerical_cols = ['exp']\n",
    "\n",
    "# # Preprocessing\n",
    "# preprocessor = ColumnTransformer(\n",
    "#     transformers=[\n",
    "#         ('cat', OneHotEncoder(handle_unknown='ignore'), categorical_cols),\n",
    "#         ('num', StandardScaler(), numerical_cols)\n",
    "\n",
    "#     ])\n",
    "\n",
    "# # Split the data\n",
    "# X = data.drop('salary', axis=1)\n",
    "# X = data[col]\n",
    "# y = data['salary']\n",
    "# X_train, X_test, y_train, y_test = train_test_split(X, y, test_size=0.2, random_state=42)\n",
    "\n",
    "# # Apply preprocessing\n",
    "# X_train_preprocessed = preprocessor.fit_transform(X_train)\n",
    "# X_test_preprocessed = preprocessor.transform(X_test)\n",
    "# X_train_preprocessed=change_to_df(X_train_preprocessed,top_feature_names)\n",
    "# X_test_preprocessed=change_to_df(X_test_preprocessed,top_feature_names)\n",
    "# # Initialize and train models\n",
    "# models = {\n",
    "#     \"Linear Regression\": LinearRegression(),\n",
    "# #     \"Random Forest\": RandomForestRegressor(n_estimators=100, max_depth=4, random_state=42),\n",
    "#     \"Gradient Boosting\": GradientBoostingRegressor(random_state=42)\n",
    "# }\n",
    "\n",
    "# for name, model in models.items():\n",
    "#     model.fit(X_train_preprocessed, y_train)\n",
    "#     y_train_pred = model.predict(X_train_preprocessed)\n",
    "#     y_test_pred = model.predict(X_test_preprocessed)\n",
    "    \n",
    "#     train_rmse = sqrt(mean_squared_error(y_train, y_train_pred))\n",
    "#     test_rmse = sqrt(mean_squared_error(y_test, y_test_pred))\n",
    "#     print(f\"{name} - Train RMSE: {train_rmse}, Test RMSE: {test_rmse}\")\n",
    "\n",
    "# # Attempt to train an XGBoost model with adjusted parameters\n",
    "# xgboost_adjusted = XGBRegressor(learning_rate= 0.1, max_depth= 4, n_estimators= 100,subsample= 0.8, random_state=42)\n",
    "# xgboost_adjusted = XGBRegressor(n_estimators=100, max_depth=2, learning_rate=0.1, subsample=0.8, colsample_bytree=0.8, random_state=42)\n",
    "\n",
    "# xgboost_adjusted.fit(X_train_preprocessed, y_train)\n",
    "# y_train_pred_xgb_adj = xgboost_adjusted.predict(X_train_preprocessed)\n",
    "# y_test_pred_xgb_adj = xgboost_adjusted.predict(X_test_preprocessed)\n",
    "\n",
    "# train_rmse_xgb_adj = sqrt(mean_squared_error(y_train, y_train_pred_xgb_adj))\n",
    "# test_rmse_xgb_adj = sqrt(mean_squared_error(y_test, y_test_pred_xgb_adj))\n",
    "# print(f\"XGBoost (Adjusted) - Train RMSE: {train_rmse_xgb_adj}, Test RMSE: {test_rmse_xgb_adj}\")\n"
   ]
  },
  {
   "cell_type": "code",
   "execution_count": 14,
   "id": "f0c121c5",
   "metadata": {
    "ExecuteTime": {
     "end_time": "2024-04-01T09:31:52.022643Z",
     "start_time": "2024-04-01T09:31:52.020197Z"
    }
   },
   "outputs": [
    {
     "data": {
      "text/plain": [
       "['Business analyst',\n",
       " 'Financial Analyst',\n",
       " 'Marketing',\n",
       " 'Data sceintist',\n",
       " 'other',\n",
       " 'BI']"
      ]
     },
     "execution_count": 14,
     "metadata": {},
     "output_type": "execute_result"
    }
   ],
   "source": [
    "col=['company_type','is_manager','is_sql','is_ml','year_of_surv','exp','viz_tool','job_location','analyst_type']\n",
    "data.analyst_type.unique().tolist()\n",
    "\n"
   ]
  },
  {
   "cell_type": "code",
   "execution_count": 23,
   "id": "dd01994d",
   "metadata": {
    "ExecuteTime": {
     "end_time": "2024-04-01T09:37:37.396475Z",
     "start_time": "2024-04-01T09:37:37.368199Z"
    }
   },
   "outputs": [],
   "source": []
  },
  {
   "cell_type": "code",
   "execution_count": 32,
   "id": "dd745a16",
   "metadata": {
    "ExecuteTime": {
     "end_time": "2024-04-01T09:42:57.530278Z",
     "start_time": "2024-04-01T09:42:57.509044Z"
    }
   },
   "outputs": [
    {
     "data": {
      "text/plain": [
       "array([33887.17466197])"
      ]
     },
     "execution_count": 32,
     "metadata": {},
     "output_type": "execute_result"
    }
   ],
   "source": [
    "# dic={'company_type': 'הייטק', 'is_manager': 'כן', 'is_sql': 'כן', 'is_ml': 'כן','year_of_surv': '2024', 'exp':6 , 'viz_tool': 'Tableau', 'job_location': 'מרכז', 'analyst_type': 'Business analyst'}\n",
    "# new_input_data=pd.DataFrame([list(dic.values())], \n",
    "#                             columns=['company_type','is_manager','is_sql','is_ml','year_of_surv','exp',\n",
    "#                                      'viz_tool','job_location','analyst_type'])\n",
    "\n",
    "# feature_names = preprocessor.get_feature_names_out()\n",
    "\n",
    "# # Create a DataFrame template\n",
    "# template_df = pd.DataFrame(columns=feature_names, dtype=float)\n",
    "# template_df.loc[0] = 0.0  # Adding a row of zeros\n",
    "# # Transform new input data\n",
    "# new_input_transformed = preprocessor.transform(new_input_data)\n",
    "\n",
    "# # If using a sparse matrix, convert to a dense format\n",
    "# if scipy.sparse.issparse(new_input_transformed):\n",
    "#     new_input_transformed_dense = new_input_transformed.toarray()\n",
    "# else:\n",
    "#     new_input_transformed_dense = new_input_transformed\n",
    "# new_input_df = pd.DataFrame(new_input_transformed_dense, columns=preprocessor.get_feature_names_out())\n",
    "\n",
    "# # new_input_df = pd.DataFrame(new_input_transformed_dense, columns=preprocessor.get_feature_names_out())\n",
    "# new_input_df\n",
    "# prediction_input = new_input_df.values  # Use this for prediction\n",
    "# prediction = model.predict(prediction_input)\n",
    "\n",
    "# prediction"
   ]
  }
 ],
 "metadata": {
  "kernelspec": {
   "display_name": "Python 3 (ipykernel)",
   "language": "python",
   "name": "python3"
  },
  "language_info": {
   "codemirror_mode": {
    "name": "ipython",
    "version": 3
   },
   "file_extension": ".py",
   "mimetype": "text/x-python",
   "name": "python",
   "nbconvert_exporter": "python",
   "pygments_lexer": "ipython3",
   "version": "3.11.5"
  }
 },
 "nbformat": 4,
 "nbformat_minor": 5
}
