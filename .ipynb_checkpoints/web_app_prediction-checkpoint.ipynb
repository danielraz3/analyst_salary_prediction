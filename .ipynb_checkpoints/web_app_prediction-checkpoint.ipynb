{
 "cells": [
  {
   "cell_type": "code",
   "execution_count": 1,
   "id": "7e9bd77e",
   "metadata": {
    "ExecuteTime": {
     "end_time": "2025-10-28T16:37:14.186104Z",
     "start_time": "2025-10-28T16:37:13.170690Z"
    }
   },
   "outputs": [
    {
     "name": "stderr",
     "output_type": "stream",
     "text": [
      "2025-10-28 18:37:14.184 \n",
      "  \u001b[33m\u001b[1mWarning:\u001b[0m to view this Streamlit app on a browser, run it with the following\n",
      "  command:\n",
      "\n",
      "    streamlit run /Users/danielr/anaconda3/lib/python3.11/site-packages/ipykernel_launcher.py [ARGUMENTS]\n"
     ]
    }
   ],
   "source": [
    "import streamlit as st\n",
    "import pandas as pd\n",
    "import scipy\n",
    "import joblib\n",
    "import sklearn\n",
    "from sklearn.ensemble import GradientBoostingRegressor\n",
    "from sklearn.base import BaseEstimator, TransformerMixin\n",
    "import numpy as np\n",
    "\n",
    "\n",
    "\n",
    "\n",
    "class YearToCategoryTransformer(BaseEstimator, TransformerMixin):\n",
    "    def fit(self, X, y=None):\n",
    "        # Assuming X is a DataFrame for simplicity\n",
    "        self.feature_names_out_ = X.columns.tolist()  # Capture input feature names\n",
    "        return self\n",
    "    \n",
    "    def transform(self, X, y=None):\n",
    "        # Transform logic here (your existing transformation code)\n",
    "        # Example transformation:\n",
    "        transformed_X = np.digitize(X, bins=[2020, 2021, 2022, 2024,2025])\n",
    "        return transformed_X\n",
    "\n",
    "    def get_feature_names_out(self, input_features=None):\n",
    "        # Return the output feature names\n",
    "        return self.feature_names_out_\n",
    "\n",
    "# Load your models (ensure these files exist and are in the correct path)\n",
    "model = joblib.load('gradient_boosting_regressor_model.pkl')\n",
    "preprocessor = joblib.load('preprocessor.joblib')\n",
    "\n",
    "def main():\n",
    " \n",
    "    st.markdown(\n",
    "        \"\"\"\n",
    "        <style>\n",
    "        /* Ensure the entire app respects RTL */\n",
    "        body {\n",
    "            direction: rtl;\n",
    "        }\n",
    "        /* Adjust the footer to be a bit lower and ensure it's centered */\n",
    "        .footer {\n",
    "            position: fixed;\n",
    "            right: 0;\n",
    "            bottom: 10px; /* Adjust this value if you need more space */\n",
    "            left: 0;\n",
    "            width: 100%;\n",
    "            text-align: center;\n",
    "            padding: 10px; /* Add some padding */\n",
    "            background-color: transparent; /* Keep the background transparent or set a color */\n",
    "        }\n",
    "        </style>\n",
    "        \"\"\",\n",
    "        unsafe_allow_html=True\n",
    "    )\n",
    "    st.markdown(\"<h1 style='text-align: center;'>מחשבון שכר לאנליסטים 2025</h1>\", unsafe_allow_html=True)\n",
    "    \n",
    "    st.markdown(\"\"\"\n",
    "    <h2 style='text-align: center; color: gray; font-size: 16px;'>המחשבון מבוסס על תוצאות סקר אנליסטים שנערך בקבוצת <a href=\"https://www.facebook.com/groups/DataAnalyticsIsrael\" target=\"_blank\">Data Analyst</a></h2>\n",
    "    <br>\n",
    "    \"\"\", unsafe_allow_html=True)\n",
    "\n",
    "    col1, col2 = st.columns(2)\n",
    "    with col1:\n",
    "        is_sql_list = ['כן', 'לא', 'לעיתים נדירות']\n",
    "        is_sql = st.selectbox(\"האם התפקיד כולל שימוש באס.קיו.אל?\", is_sql_list)\n",
    "        \n",
    "    with col2:\n",
    "        is_ml_list = ['לא', 'כן', 'לעיתים נדירות']\n",
    "        is_python = st.selectbox(\"האם התפקיד כולל שימוש בשפת פייתון?\", is_ml_list)\n",
    "        \n",
    "    col3, col4 = st.columns(2)\n",
    "    with col3:\n",
    "        is_viz_tool = ['Tableau', 'Power BI', 'Excel', 'Looker/Qlik/Python/R', 'Other', 'No Tool']\n",
    "        viz_tool = st.selectbox(\"מהו כלי הויזואליזציה העיקרי בו אתה משתמש?\", is_viz_tool)\n",
    "\n",
    "    with col4:\n",
    "        is_manager_list = ['לא', 'כן']\n",
    "        is_manager = st.selectbox(\"האם תפקיד ניהולי?\", is_manager_list)\n",
    "\n",
    "    col5, col6 = st.columns(2)\n",
    "    with col5:\n",
    "        company_type_list = ['הייטק', 'תעשייה ישראלית', 'אחר']\n",
    "        company_type = st.selectbox(\"סוג החברה\", company_type_list)\n",
    "\n",
    "    with col6:\n",
    "        is_analyst_type = ['Business/Data analyst']\n",
    "        analyst_type = st.selectbox(\"איזה סוג אנליסט אתה?\", is_analyst_type)\n",
    "    \n",
    "    exp = st.number_input(\"שנות נסיון\", min_value=0, max_value=20, value=0, format=\"%d\")\n",
    "\n",
    "    if st.button(\"Predict\"):\n",
    "        data = {'company_type': company_type, 'is_manager': is_manager, 'is_sql': is_sql, 'is_python': is_python,\n",
    "                'year_of_surv': 2025, 'exp': exp, 'viz_tool': viz_tool, 'analyst_type': analyst_type}\n",
    "\n",
    "        new_input_data = pd.DataFrame([list(data.values())], columns=['company_type', 'is_manager', 'is_sql', 'is_python', 'year_of_surv', 'exp', 'viz_tool', 'analyst_type'])\n",
    "\n",
    "        prediction_input = preprocessor.transform(new_input_data)\n",
    "        prediction = model.predict(prediction_input)\n",
    "        prediction_formatted = f\"{int(round(prediction[0], -2)):,}\"\n",
    "\n",
    "        st.markdown(f\"<h2 style='text-align: center; color: black;'>שכר מוערך צפוי: {prediction_formatted} ₪</h2>\", unsafe_allow_html=True)\n",
    "\n",
    "    st.markdown(\"\"\"\n",
    "    <div class=\"footer\">\n",
    "    פותח על ידי <a href=\"https://www.linkedin.com/in/daniel-raz-1747b2118/\" target=\"_blank\">דניאל רז</a>\n",
    "    </div>\n",
    "    \"\"\", unsafe_allow_html=True)\n",
    "\n",
    "if __name__ == \"__main__\":\n",
    "    main()\n"
   ]
  },
  {
   "cell_type": "code",
   "execution_count": 2,
   "id": "90941743-762c-448d-8d58-75c1386b9c72",
   "metadata": {
    "ExecuteTime": {
     "end_time": "2025-10-28T16:37:15.263949Z",
     "start_time": "2025-10-28T16:37:15.251534Z"
    }
   },
   "outputs": [
    {
     "ename": "SyntaxError",
     "evalue": "invalid syntax (2109636508.py, line 1)",
     "output_type": "error",
     "traceback": [
      "\u001b[0;36m  Cell \u001b[0;32mIn[2], line 1\u001b[0;36m\u001b[0m\n\u001b[0;31m    python -m venv .venv && source .venv/bin/activate    # (Windows: .venv\\Scripts\\activate)\u001b[0m\n\u001b[0m              ^\u001b[0m\n\u001b[0;31mSyntaxError\u001b[0m\u001b[0;31m:\u001b[0m invalid syntax\n"
     ]
    }
   ],
   "source": [
    "python -m venv .venv && source .venv/bin/activate    # (Windows: .venv\\Scripts\\activate)\n",
    "pip install -r requirements.txt\n",
    "streamlit run app.py"
   ]
  },
  {
   "cell_type": "code",
   "execution_count": null,
   "id": "c0e0703e",
   "metadata": {},
   "outputs": [],
   "source": []
  }
 ],
 "metadata": {
  "kernelspec": {
   "display_name": "Python 3 (ipykernel)",
   "language": "python",
   "name": "python3"
  },
  "language_info": {
   "codemirror_mode": {
    "name": "ipython",
    "version": 3
   },
   "file_extension": ".py",
   "mimetype": "text/x-python",
   "name": "python",
   "nbconvert_exporter": "python",
   "pygments_lexer": "ipython3",
   "version": "3.11.5"
  }
 },
 "nbformat": 4,
 "nbformat_minor": 5
}
